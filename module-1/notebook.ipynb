{
 "cells": [
  {
   "cell_type": "code",
   "execution_count": null,
   "id": "9aa04c3e",
   "metadata": {
    "vscode": {
     "languageId": "plaintext"
    }
   },
   "outputs": [],
   "source": [
    "docker run -it \\\n",
    "  --rm \\\n",
    "  --name elasticsearch \\\n",
    "  -p 9200:9200 \\\n",
    "  -e \"discovery.type=single-node\" \\\n",
    "  -e \"xpack.security.enabled=false\" \\\n",
    "  docker.elastic.co/elasticsearch/elasticsearch:8.17.6\n"
   ]
  },
  {
   "cell_type": "code",
   "execution_count": null,
   "id": "f188c498",
   "metadata": {
    "vscode": {
     "languageId": "plaintext"
    }
   },
   "outputs": [],
   "source": [
    "curl localhost:9200"
   ]
  },
  {
   "cell_type": "code",
   "execution_count": null,
   "id": "adbaad1b",
   "metadata": {
    "vscode": {
     "languageId": "plaintext"
    }
   },
   "outputs": [],
   "source": [
    "python download_documents.py"
   ]
  },
  {
   "cell_type": "code",
   "execution_count": null,
   "id": "efa4cc7a",
   "metadata": {
    "vscode": {
     "languageId": "plaintext"
    }
   },
   "outputs": [],
   "source": [
    "python index_documents.py"
   ]
  },
  {
   "cell_type": "code",
   "execution_count": null,
   "id": "11cdc34a",
   "metadata": {
    "vscode": {
     "languageId": "plaintext"
    }
   },
   "outputs": [],
   "source": [
    "python search_question.py"
   ]
  },
  {
   "cell_type": "code",
   "execution_count": null,
   "id": "e678e197",
   "metadata": {
    "vscode": {
     "languageId": "plaintext"
    }
   },
   "outputs": [],
   "source": [
    "python filter_question.py"
   ]
  },
  {
   "cell_type": "code",
   "execution_count": null,
   "id": "5494d127",
   "metadata": {
    "vscode": {
     "languageId": "plaintext"
    }
   },
   "outputs": [],
   "source": [
    "python prompt_llm.py"
   ]
  },
  {
   "cell_type": "code",
   "execution_count": null,
   "id": "52b3bae4",
   "metadata": {
    "vscode": {
     "languageId": "plaintext"
    }
   },
   "outputs": [],
   "source": [
    "python token_count.py"
   ]
  }
 ],
 "metadata": {
  "language_info": {
   "name": "python"
  }
 },
 "nbformat": 4,
 "nbformat_minor": 5
}
