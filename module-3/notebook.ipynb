{
 "cells": [
  {
   "cell_type": "code",
   "execution_count": 3,
   "id": "c8e97278",
   "metadata": {},
   "outputs": [
    {
     "name": "stdout",
     "output_type": "stream",
     "text": [
      "✅ Loaded 948 documents\n",
      "✅ Loaded 4627 ground truth question-answer pairs\n"
     ]
    }
   ],
   "source": [
    "import requests\n",
    "import pandas as pd\n",
    "\n",
    "# Download the FAQ documents\n",
    "url_prefix = 'https://raw.githubusercontent.com/DataTalksClub/llm-zoomcamp/main/03-evaluation/'\n",
    "docs_url = url_prefix + 'search_evaluation/documents-with-ids.json'\n",
    "documents = requests.get(docs_url).json()\n",
    "\n",
    "# Download the ground truth Q&A pairs\n",
    "ground_truth_url = url_prefix + 'search_evaluation/ground-truth-data.csv'\n",
    "df_ground_truth = pd.read_csv(ground_truth_url)\n",
    "ground_truth = df_ground_truth.to_dict(orient='records')\n",
    "\n",
    "# Sanity check\n",
    "print(f\"✅ Loaded {len(documents)} documents\")\n",
    "print(f\"✅ Loaded {len(ground_truth)} ground truth question-answer pairs\")\n"
   ]
  },
  {
   "cell_type": "code",
   "execution_count": 4,
   "id": "c90a61f0",
   "metadata": {},
   "outputs": [],
   "source": [
    "from tqdm.auto import tqdm\n",
    "\n",
    "def hit_rate(relevance_total):\n",
    "    cnt = 0\n",
    "    for line in relevance_total:\n",
    "        if True in line:\n",
    "            cnt = cnt + 1\n",
    "    return cnt / len(relevance_total)\n",
    "\n",
    "def mrr(relevance_total):\n",
    "    total_score = 0.0\n",
    "    for line in relevance_total:\n",
    "        for rank in range(len(line)):\n",
    "            if line[rank] == True:\n",
    "                total_score = total_score + 1 / (rank + 1)\n",
    "                break\n",
    "    return total_score / len(relevance_total)\n",
    "\n",
    "def evaluate(ground_truth, search_function):\n",
    "    relevance_total = []\n",
    "\n",
    "    for q in tqdm(ground_truth):\n",
    "        doc_id = q['document']\n",
    "        results = search_function(q)\n",
    "        relevance = [d['id'] == doc_id for d in results]\n",
    "        relevance_total.append(relevance)\n",
    "\n",
    "    return {\n",
    "        'hit_rate': hit_rate(relevance_total),\n",
    "        'mrr': mrr(relevance_total),\n",
    "    }\n",
    "\n",
    "\n"
   ]
  },
  {
   "cell_type": "code",
   "execution_count": null,
   "id": "4dfee762",
   "metadata": {},
   "outputs": [
    {
     "name": "stderr",
     "output_type": "stream",
     "text": [
      "100%|██████████| 4627/4627 [00:34<00:00, 135.46it/s]"
     ]
    },
    {
     "name": "stdout",
     "output_type": "stream",
     "text": [
      "{'hit_rate': 0.8013831856494489, 'mrr': 0.6815251062603574}\n"
     ]
    },
    {
     "name": "stderr",
     "output_type": "stream",
     "text": [
      "\n"
     ]
    }
   ],
   "source": [
    "# Question 1\n",
    "\n",
    "from minsearch import Index\n",
    "\n",
    "index = Index(text_fields=[\"question\", \"section\", \"text\"],\n",
    "              keyword_fields=[\"course\", \"id\"])\n",
    "index.fit(documents)\n",
    "\n",
    "def search_minsearch(query):\n",
    "    return index.search(\n",
    "        query[\"question\"],\n",
    "        filter_dict={},  # no keyword filter except id matching in evaluation wrapper\n",
    "        boost_dict={'question': 1.5, 'section': 0.1},\n",
    "        num_results=5\n",
    "    )\n",
    "\n",
    "results = evaluate(ground_truth, search_minsearch)\n",
    "print(results)\n"
   ]
  },
  {
   "cell_type": "code",
   "execution_count": 11,
   "id": "302d959b",
   "metadata": {},
   "outputs": [],
   "source": [
    "queries = [\n",
    "    {\n",
    "        \"query\": \"How to set up MLflow?\",\n",
    "        \"course\": \"mlops-zoomcamp\"\n",
    "    },\n",
    "    {\n",
    "        \"query\": \"What is the difference between precision and recall?\",\n",
    "        \"course\": \"ml-zoomcamp\"\n",
    "    },\n",
    "    {\n",
    "        \"query\": \"What is batch size?\",\n",
    "        \"course\": \"ml-zoomcamp\"\n",
    "    },\n",
    "    {\n",
    "        \"query\": \"What is Weaviate?\",\n",
    "        \"course\": \"llm-zoomcamp\"\n",
    "    },\n",
    "    {\n",
    "        \"query\": \"What are agents in LangChain?\",\n",
    "        \"course\": \"llm-zoomcamp\"\n",
    "    }\n",
    "]\n",
    "\n",
    "\n"
   ]
  },
  {
   "cell_type": "code",
   "execution_count": 17,
   "id": "07e66381",
   "metadata": {},
   "outputs": [
    {
     "name": "stdout",
     "output_type": "stream",
     "text": [
      "Sample from ground_truth:\n",
      "{'question': 'When does the course begin?', 'course': 'data-engineering-zoomcamp', 'document': 'c02e79ef'}\n"
     ]
    }
   ],
   "source": [
    "# 🧾 Step 1: Confirm the structure of ground_truth\n",
    "print(\"Sample from ground_truth:\")\n",
    "print(ground_truth[0])\n"
   ]
  },
  {
   "cell_type": "code",
   "execution_count": null,
   "id": "6bd6c660",
   "metadata": {},
   "outputs": [],
   "source": [
    "# Question 2:\n",
    "\n",
    "from minsearch import VectorSearch\n",
    "from sklearn.feature_extraction.text import TfidfVectorizer\n",
    "from sklearn.decomposition import TruncatedSVD\n",
    "from sklearn.pipeline import make_pipeline\n",
    "\n",
    "# Step 1: Extract questions\n",
    "texts = [doc['question'] for doc in documents]\n",
    "\n",
    "# Step 2: Create embeddings\n",
    "pipeline = make_pipeline(\n",
    "    TfidfVectorizer(min_df=3),\n",
    "    TruncatedSVD(n_components=128, random_state=1)\n",
    ")\n",
    "X = pipeline.fit_transform(texts)\n",
    "\n",
    "# Step 3: Index with vector search\n",
    "vindex = VectorSearch(keyword_fields={'course'})\n",
    "vindex.fit(X, documents)\n"
   ]
  },
  {
   "cell_type": "code",
   "execution_count": 18,
   "id": "40c3d0d3",
   "metadata": {},
   "outputs": [
    {
     "name": "stderr",
     "output_type": "stream",
     "text": [
      "100%|██████████| 4627/4627 [00:15<00:00, 290.58it/s]"
     ]
    },
    {
     "name": "stdout",
     "output_type": "stream",
     "text": [
      "{'hit_rate': 0.4696347525394424, 'mrr': 0.29996269309539225}\n"
     ]
    },
    {
     "name": "stderr",
     "output_type": "stream",
     "text": [
      "\n"
     ]
    }
   ],
   "source": [
    "from tqdm import tqdm\n",
    "\n",
    "# ✅ Evaluation metrics\n",
    "def hit_rate(results):\n",
    "    return sum([any(r) for r in results]) / len(results)\n",
    "\n",
    "def mrr(results):\n",
    "    total = 0\n",
    "    for rel in results:\n",
    "        for i, is_relevant in enumerate(rel):\n",
    "            if is_relevant:\n",
    "                total += 1 / (i + 1)\n",
    "                break\n",
    "    return total / len(results)\n",
    "\n",
    "# ✅ Evaluation wrapper\n",
    "def evaluate(ground_truth, search_function):\n",
    "    relevance_total = []\n",
    "\n",
    "    for q in tqdm(ground_truth):\n",
    "        doc_id = q['document']\n",
    "        results = search_function(q)\n",
    "        relevance = [d['id'] == doc_id for d in results]\n",
    "        relevance_total.append(relevance)\n",
    "\n",
    "    return {\n",
    "        'hit_rate': hit_rate(relevance_total),\n",
    "        'mrr': mrr(relevance_total),\n",
    "    }\n",
    "\n",
    "# ✅ Corrected vector search using the correct key ('question' instead of 'query')\n",
    "def search_vector(query):\n",
    "    query_text = query['question']  # <-- adjust key here if different\n",
    "    x = pipeline.transform([query_text])\n",
    "    results = vindex.search(x)\n",
    "    return results\n",
    "\n",
    "# ✅ Run evaluation\n",
    "results = evaluate(ground_truth, search_vector)\n",
    "print(results)\n"
   ]
  },
  {
   "cell_type": "code",
   "execution_count": null,
   "id": "ed1dbd8b",
   "metadata": {},
   "outputs": [
    {
     "name": "stderr",
     "output_type": "stream",
     "text": [
      "100%|██████████| 4627/4627 [00:23<00:00, 198.82it/s]"
     ]
    },
    {
     "name": "stdout",
     "output_type": "stream",
     "text": [
      "{'hit_rate': 0.8428787551329155, 'mrr': 0.6234184445336386}\n"
     ]
    },
    {
     "name": "stderr",
     "output_type": "stream",
     "text": [
      "\n"
     ]
    }
   ],
   "source": [
    "# Question 3: \n",
    "\n",
    "from sklearn.feature_extraction.text import TfidfVectorizer\n",
    "from sklearn.decomposition import TruncatedSVD\n",
    "from sklearn.pipeline import make_pipeline\n",
    "from tqdm import tqdm\n",
    "\n",
    "# Step 1: Combine question and answer text\n",
    "texts = [doc[\"question\"] + \" \" + doc[\"text\"] for doc in documents]\n",
    "\n",
    "# Step 2: TF-IDF + SVD Pipeline\n",
    "pipeline = make_pipeline(\n",
    "    TfidfVectorizer(min_df=3),\n",
    "    TruncatedSVD(n_components=128)\n",
    ")\n",
    "\n",
    "# Step 3: Fit + transform\n",
    "X = pipeline.fit_transform(texts)\n",
    "\n",
    "# Step 4: Rebuild vector index using `.fit()` with correct order\n",
    "vindex = VectorSearch(keyword_fields=[\"question\"])\n",
    "vindex.fit(X, documents)\n",
    "\n",
    "# Step 5: Define search function\n",
    "def search_vector(query):\n",
    "    x = pipeline.transform([query[\"question\"]])\n",
    "    return vindex.search(x)\n",
    "\n",
    "\n",
    "# Step 6: Evaluate\n",
    "results = evaluate(ground_truth, search_vector)\n",
    "print(results)\n"
   ]
  },
  {
   "cell_type": "code",
   "execution_count": 28,
   "id": "38cf3fc9",
   "metadata": {},
   "outputs": [],
   "source": [
    "texts = []\n",
    "for doc in documents:\n",
    "    text = doc['question'] + ' ' + doc['text']\n",
    "    texts.append(text)\n"
   ]
  },
  {
   "cell_type": "code",
   "execution_count": 34,
   "id": "f7956fe2",
   "metadata": {},
   "outputs": [],
   "source": [
    "documents_small = documents[:1000]\n",
    "ground_truth_small = ground_truth[:200]\n"
   ]
  },
  {
   "cell_type": "code",
   "execution_count": 35,
   "id": "f4bc52b0",
   "metadata": {},
   "outputs": [],
   "source": [
    "texts = [doc['question'] + ' ' + doc['text'] for doc in documents_small]\n"
   ]
  },
  {
   "cell_type": "code",
   "execution_count": null,
   "id": "8f991a21",
   "metadata": {},
   "outputs": [
    {
     "name": "stderr",
     "output_type": "stream",
     "text": [
      "Some weights of BertModel were not initialized from the model checkpoint at jinaai/jina-embeddings-v2-small-en and are newly initialized: ['embeddings.position_embeddings.weight', 'encoder.layer.0.intermediate.dense.bias', 'encoder.layer.0.intermediate.dense.weight', 'encoder.layer.0.output.LayerNorm.bias', 'encoder.layer.0.output.LayerNorm.weight', 'encoder.layer.0.output.dense.bias', 'encoder.layer.0.output.dense.weight', 'encoder.layer.1.intermediate.dense.bias', 'encoder.layer.1.intermediate.dense.weight', 'encoder.layer.1.output.LayerNorm.bias', 'encoder.layer.1.output.LayerNorm.weight', 'encoder.layer.1.output.dense.bias', 'encoder.layer.1.output.dense.weight', 'encoder.layer.2.intermediate.dense.bias', 'encoder.layer.2.intermediate.dense.weight', 'encoder.layer.2.output.LayerNorm.bias', 'encoder.layer.2.output.LayerNorm.weight', 'encoder.layer.2.output.dense.bias', 'encoder.layer.2.output.dense.weight', 'encoder.layer.3.intermediate.dense.bias', 'encoder.layer.3.intermediate.dense.weight', 'encoder.layer.3.output.LayerNorm.bias', 'encoder.layer.3.output.LayerNorm.weight', 'encoder.layer.3.output.dense.bias', 'encoder.layer.3.output.dense.weight']\n",
      "You should probably TRAIN this model on a down-stream task to be able to use it for predictions and inference.\n",
      "100%|██████████| 30/30 [08:02<00:00, 16.08s/it]\n"
     ]
    }
   ],
   "source": [
    "# Question 4:\n",
    "\n",
    "from sentence_transformers import SentenceTransformer\n",
    "import torch\n",
    "from tqdm import tqdm\n",
    "\n",
    "# Load from cache\n",
    "model = SentenceTransformer(\"jinaai/jina-embeddings-v2-small-en\")\n",
    "\n",
    "# Move to GPU if available\n",
    "if torch.cuda.is_available():\n",
    "    model = model.to(\"cuda\")\n",
    "\n",
    "# Batch encode for speed\n",
    "batch_size = 32\n",
    "vectors = []\n",
    "\n",
    "for i in tqdm(range(0, len(texts), batch_size)):\n",
    "    batch = texts[i:i+batch_size]\n",
    "    batch_vecs = model.encode(batch, show_progress_bar=False)\n",
    "    vectors.extend(batch_vecs)\n"
   ]
  },
  {
   "cell_type": "code",
   "execution_count": 37,
   "id": "b0dcf5aa",
   "metadata": {},
   "outputs": [
    {
     "name": "stderr",
     "output_type": "stream",
     "text": [
      "C:\\Users\\lenovo\\AppData\\Local\\Temp\\ipykernel_37356\\3714437548.py:7: DeprecationWarning: `recreate_collection` method is deprecated and will be removed in the future. Use `collection_exists` to check collection existence and `create_collection` instead.\n",
      "  client.recreate_collection(\n"
     ]
    }
   ],
   "source": [
    "from qdrant_client import QdrantClient\n",
    "from qdrant_client.models import VectorParams, Distance, PointStruct\n",
    "import numpy as np\n",
    "\n",
    "client = QdrantClient(\":memory:\")  # super fast\n",
    "\n",
    "client.recreate_collection(\n",
    "    collection_name=\"q4_test\",\n",
    "    vectors_config=VectorParams(size=len(vectors[0]), distance=Distance.COSINE)\n",
    ")\n",
    "\n",
    "# Upload vectors to Qdrant\n",
    "points = [\n",
    "    PointStruct(id=i, vector=vec, payload=documents_small[i])\n",
    "    for i, vec in enumerate(vectors)\n",
    "]\n",
    "\n",
    "client.upload_points(collection_name=\"q4_test\", points=points, parallel=2)\n"
   ]
  },
  {
   "cell_type": "code",
   "execution_count": 41,
   "id": "e12e7eaa",
   "metadata": {},
   "outputs": [],
   "source": [
    "def search_qdrant(query):\n",
    "    query_text = query['question']  # ← FIXED HERE\n",
    "    query_vec = model.encode(query_text)\n",
    "\n",
    "    results = client.search(\n",
    "        collection_name=\"q4_test\",\n",
    "        query_vector=query_vec,\n",
    "        limit=5\n",
    "    )\n",
    "    return [{\"id\": r.payload['id']} for r in results]\n",
    "\n"
   ]
  },
  {
   "cell_type": "code",
   "execution_count": 42,
   "id": "64b4af38",
   "metadata": {},
   "outputs": [
    {
     "name": "stderr",
     "output_type": "stream",
     "text": [
      "  0%|          | 0/200 [00:00<?, ?it/s]C:\\Users\\lenovo\\AppData\\Local\\Temp\\ipykernel_37356\\857648105.py:5: DeprecationWarning: `search` method is deprecated and will be removed in the future. Use `query_points` instead.\n",
      "  results = client.search(\n",
      "100%|██████████| 200/200 [00:06<00:00, 28.93it/s]\n"
     ]
    },
    {
     "data": {
      "text/plain": [
       "{'hit_rate': 0.345, 'mrr': 0.23283333333333334}"
      ]
     },
     "execution_count": 42,
     "metadata": {},
     "output_type": "execute_result"
    }
   ],
   "source": [
    "evaluate(ground_truth_small, search_qdrant)\n"
   ]
  },
  {
   "cell_type": "code",
   "execution_count": null,
   "id": "8e1460c2",
   "metadata": {},
   "outputs": [
    {
     "name": "stdout",
     "output_type": "stream",
     "text": [
      "✅ Average cosine similarity: 0.8416\n"
     ]
    }
   ],
   "source": [
    "# Question 5: \n",
    "\n",
    "import pandas as pd\n",
    "import numpy as np\n",
    "from sklearn.pipeline import make_pipeline\n",
    "from sklearn.feature_extraction.text import TfidfVectorizer\n",
    "from sklearn.decomposition import TruncatedSVD\n",
    "\n",
    "# ✅ Load the local CSV file\n",
    "df_results = pd.read_csv(\"results-gpt4o-mini.csv\")\n",
    "\n",
    "# ✅ Create a TF-IDF + SVD pipeline\n",
    "pipeline = make_pipeline(\n",
    "    TfidfVectorizer(min_df=3),\n",
    "    TruncatedSVD(n_components=128, random_state=1)\n",
    ")\n",
    "\n",
    "# ✅ Fit on all text: LLM answers, original answers, and questions\n",
    "pipeline.fit(\n",
    "    df_results[\"answer_llm\"] + \" \" +\n",
    "    df_results[\"answer_orig\"] + \" \" +\n",
    "    df_results[\"question\"]\n",
    ")\n",
    "\n",
    "# ✅ Transform the LLM and original answers\n",
    "v_llm = pipeline.transform(df_results[\"answer_llm\"])\n",
    "v_orig = pipeline.transform(df_results[\"answer_orig\"])\n",
    "\n",
    "# ✅ Cosine similarity function (row-wise)\n",
    "def cosine_batch(u, v):\n",
    "    u_norm = np.sqrt((u * u).sum(axis=1))\n",
    "    v_norm = np.sqrt((v * v).sum(axis=1))\n",
    "    dot_product = (u * v).sum(axis=1)\n",
    "    return dot_product / (u_norm * v_norm)\n",
    "\n",
    "# ✅ Compute average cosine similarity\n",
    "cosines = cosine_batch(v_llm, v_orig)\n",
    "average_cosine = cosines.mean()\n",
    "\n",
    "print(\"✅ Average cosine similarity:\", round(average_cosine, 4))\n"
   ]
  },
  {
   "cell_type": "code",
   "execution_count": null,
   "id": "41745ea5",
   "metadata": {},
   "outputs": [
    {
     "name": "stderr",
     "output_type": "stream",
     "text": [
      "100%|██████████| 1830/1830 [00:13<00:00, 139.95it/s]"
     ]
    },
    {
     "name": "stdout",
     "output_type": "stream",
     "text": [
      "✅ Average Rouge-1 F1: 0.3517\n"
     ]
    },
    {
     "name": "stderr",
     "output_type": "stream",
     "text": [
      "\n"
     ]
    }
   ],
   "source": [
    "# Question 6: \n",
    "\n",
    "from rouge import Rouge\n",
    "from tqdm import tqdm\n",
    "\n",
    "rouge = Rouge()\n",
    "\n",
    "# Store Rouge-1 F1 scores\n",
    "rouge_1_f1_scores = []\n",
    "\n",
    "for _, row in tqdm(df_results.iterrows(), total=len(df_results)):\n",
    "    try:\n",
    "        scores = rouge.get_scores(row['answer_llm'], row['answer_orig'])[0]\n",
    "        rouge_1_f1_scores.append(scores['rouge-1']['f'])\n",
    "    except:\n",
    "        # In case of empty or problematic rows\n",
    "        rouge_1_f1_scores.append(0)\n",
    "\n",
    "# Compute average\n",
    "avg_rouge_1_f1 = sum(rouge_1_f1_scores) / len(rouge_1_f1_scores)\n",
    "print(f\"✅ Average Rouge-1 F1: {avg_rouge_1_f1:.4f}\")\n"
   ]
  }
 ],
 "metadata": {
  "kernelspec": {
   "display_name": "venv",
   "language": "python",
   "name": "python3"
  },
  "language_info": {
   "codemirror_mode": {
    "name": "ipython",
    "version": 3
   },
   "file_extension": ".py",
   "mimetype": "text/x-python",
   "name": "python",
   "nbconvert_exporter": "python",
   "pygments_lexer": "ipython3",
   "version": "3.10.0"
  }
 },
 "nbformat": 4,
 "nbformat_minor": 5
}
